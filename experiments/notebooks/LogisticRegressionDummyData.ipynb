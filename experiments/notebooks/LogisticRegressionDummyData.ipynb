{
 "cells": [
  {
   "cell_type": "code",
   "execution_count": 1,
   "id": "b9e5f505",
   "metadata": {},
   "outputs": [],
   "source": [
    "import numpy as np\n",
    "import torch\n",
    "from torch.distributions.multivariate_normal import MultivariateNormal\n",
    "import matplotlib.pyplot as plt\n",
    "from matplotlib.axes import Axes\n",
    "from torch.utils.data import TensorDataset, DataLoader\n",
    "from torch.optim import SGD, Optimizer, Adam\n",
    "import torch.nn as nn\n",
    "from pytorch_lightning import Trainer\n",
    "from scipy.stats import multivariate_normal, sem\n",
    "\n",
    "from swafa.models import FeedForwardNet \n",
    "from swafa.callbacks import FactorAnalysisVariationalInferenceCallback\n",
    "from experiments.utils.logistic_regression import generate_model_and_data, approximate_2d_posterior\n",
    "\n",
    "plt.rcParams.update({'font.size': 12})"
   ]
  },
  {
   "cell_type": "markdown",
   "id": "6623c582",
   "metadata": {},
   "source": [
    "### Generate a model and some dummy data"
   ]
  },
  {
   "cell_type": "code",
   "execution_count": 2,
   "id": "399dde56",
   "metadata": {},
   "outputs": [
    {
     "name": "stdout",
     "output_type": "stream",
     "text": [
      "X shape: torch.Size([3000, 2])\n",
      "y shape: torch.Size([3000])\n",
      "theta: tensor([10.7279,  3.9858])\n"
     ]
    }
   ],
   "source": [
    "n_samples = 3000\n",
    "feature_covar = np.array([\n",
    "    [1, 0.5], \n",
    "    [0.5, 1]\n",
    "])\n",
    "weight_prior_precision = 0.01 \n",
    "random_seed = 1\n",
    "\n",
    "X, y, theta = generate_model_and_data(n_samples, feature_covar, weight_prior_precision, random_seed)\n",
    "\n",
    "print(f'X shape: {X.shape}')\n",
    "print(f'y shape: {y.shape}')\n",
    "print(f'theta: {theta.flatten()}')"
   ]
  },
  {
   "cell_type": "markdown",
   "id": "e0426cd6",
   "metadata": {},
   "source": [
    "### Approximate the true posterior by evaluating over a grid (scale so that max value is 1)"
   ]
  },
  {
   "cell_type": "code",
   "execution_count": 3,
   "id": "4215706a",
   "metadata": {},
   "outputs": [],
   "source": [
    "theta_1 = theta[0, 0]\n",
    "theta_2 = theta[1, 0]\n",
    "offset = 1.5\n",
    "\n",
    "theta_range_1 = torch.arange(theta_1 - offset, theta_1 + offset, 0.01)\n",
    "theta_range_2 = torch.arange(theta_2 - offset, theta_2 + offset, 0.01)\n",
    "\n",
    "posterior = approximate_2d_posterior(theta_range_1, theta_range_2, X, y, weight_prior_precision, scale=True)"
   ]
  },
  {
   "cell_type": "markdown",
   "id": "669d8790",
   "metadata": {},
   "source": [
    "### Approximate the true posterior using VIFA"
   ]
  },
  {
   "cell_type": "code",
   "execution_count": 4,
   "id": "1a22784a",
   "metadata": {},
   "outputs": [
    {
     "name": "stderr",
     "output_type": "stream",
     "text": [
      "GPU available: False, used: False\n",
      "TPU available: False, using: 0 TPU cores\n",
      "/Users/scott/opt/miniconda3/envs/thesis/lib/python3.8/site-packages/pytorch_lightning/trainer/configuration_validator.py:101: UserWarning: you defined a validation_step but have no val_dataloader. Skipping val loop\n",
      "  rank_zero_warn(f'you defined a {step_name} but have no {loader_name}. Skipping {stage} loop')\n",
      "\n",
      "  | Name          | Type              | Params\n",
      "----------------------------------------------------\n",
      "0 | loss_fn       | BCEWithLogitsLoss | 0     \n",
      "1 | hidden_layers | ModuleList        | 0     \n",
      "2 | output_layer  | Linear            | 2     \n",
      "----------------------------------------------------\n",
      "2         Trainable params\n",
      "0         Non-trainable params\n",
      "2         Total params\n",
      "0.000     Total estimated model params size (MB)\n",
      "/Users/scott/opt/miniconda3/envs/thesis/lib/python3.8/site-packages/pytorch_lightning/trainer/data_loading.py:102: UserWarning: The dataloader, train dataloader, does not have many workers which may be a bottleneck. Consider increasing the value of the `num_workers` argument` (try 8 which is the number of cpus on this machine) in the `DataLoader` init to improve performance.\n",
      "  rank_zero_warn(\n"
     ]
    },
    {
     "name": "stdout",
     "output_type": "stream",
     "text": [
      "mean: tensor([10.5188,  4.0477])\n",
      "covar:\n",
      " tensor([[0.3784, 0.1465],\n",
      "        [0.1465, 0.0771]])\n"
     ]
    }
   ],
   "source": [
    "latent_dim = 1\n",
    "n_gradients_per_update = 10\n",
    "optimiser_class = SGD\n",
    "bias_optimiser_kwargs = dict(lr=1e-2)\n",
    "factors_optimiser_kwargs = dict(lr=1e-4)\n",
    "noise_optimiser_kwargs = dict(lr=1e-2)\n",
    "\n",
    "batch_size = 100\n",
    "n_epochs = 5000\n",
    "max_grad_norm = 10\n",
    "\n",
    "n_samples, n_features = X.shape\n",
    "\n",
    "model = FeedForwardNet(\n",
    "    input_dim=n_features,\n",
    "    output_activation_fn=torch.sigmoid,\n",
    "    bias=False,\n",
    "    optimiser_class=optimiser_class,\n",
    "    optimiser_kwargs=bias_optimiser_kwargs,\n",
    "    loss_fn=nn.BCEWithLogitsLoss(reduction='mean'),\n",
    "    loss_multiplier=n_samples,\n",
    "    random_seed=random_seed,\n",
    ")\n",
    "\n",
    "callback = FactorAnalysisVariationalInferenceCallback(\n",
    "    latent_dim, \n",
    "    precision=weight_prior_precision, \n",
    "    n_gradients_per_update=n_gradients_per_update, \n",
    "    optimiser_class=optimiser_class, \n",
    "    bias_optimiser_kwargs=bias_optimiser_kwargs,\n",
    "    factors_optimiser_kwargs=factors_optimiser_kwargs,\n",
    "    noise_optimiser_kwargs=noise_optimiser_kwargs,\n",
    "    max_grad_norm=max_grad_norm,\n",
    "    random_seed=random_seed,\n",
    ")\n",
    "\n",
    "dataset = TensorDataset(X, y)\n",
    "dataloader = DataLoader(dataset, batch_size=batch_size, drop_last=False, shuffle=True)\n",
    "\n",
    "trainer = Trainer(max_epochs=n_epochs, callbacks=callback, progress_bar_refresh_rate=0)\n",
    "trainer.fit(model, train_dataloader=dataloader)\n",
    "\n",
    "variational_mean = callback.get_variational_mean()\n",
    "variational_covar = callback.get_variational_covariance()\n",
    "\n",
    "print(f'mean: {variational_mean.flatten()}')\n",
    "print(f'covar:\\n {variational_covar}')"
   ]
  },
  {
   "cell_type": "markdown",
   "id": "d7fc7954",
   "metadata": {},
   "source": [
    "### Plot the two scaled approximations"
   ]
  },
  {
   "cell_type": "code",
   "execution_count": 8,
   "id": "13eb7387",
   "metadata": {},
   "outputs": [
    {
     "data": {
      "image/png": "[encoded data removed]",
      "text/plain": [
       "<Figure size 576x432 with 2 Axes>"
      ]
     },
     "metadata": {
      "needs_background": "light"
     },
     "output_type": "display_data"
    },
    {
     "data": {
      "image/png": "[encoded data removed]",
      "text/plain": [
       "<Figure size 576x432 with 2 Axes>"
      ]
     },
     "metadata": {
      "needs_background": "light"
     },
     "output_type": "display_data"
    }
   ],
   "source": [
    "xlim = [theta_range_1.min().item(), theta_range_1.max().item()]\n",
    "ylim = [theta_range_2.min().item(), theta_range_2.max().item()]\n",
    "x_grid, y_grid = np.mgrid[xlim[0]:xlim[1]:.01, ylim[0]:ylim[1]:.01]\n",
    "\n",
    "# first approximation\n",
    "fig1, ax1 = plt.subplots(1, 1, figsize=(8, 6))\n",
    "c1 = ax1.contourf(x_grid, y_grid, posterior[:-1, :])\n",
    "plt.colorbar(c1, ax=ax1)\n",
    "png_path = f'../../papers/vifa/plots/logistic_regression_synthetic_true_posterior.png'\n",
    "plt.savefig(png_path, format='png')\n",
    "plt.show()\n",
    "\n",
    "# second approximation\n",
    "pos = np.dstack((x_grid, y_grid))\n",
    "rv = multivariate_normal(variational_mean.numpy(), variational_covar.numpy())\n",
    "pdf = rv.pdf(pos)\n",
    "scaled_pdf = pdf / pdf.max()\n",
    "    \n",
    "fig2, ax2 = plt.subplots(1, 1, figsize=(8, 6))\n",
    "c2 = ax2.contourf(x_grid, y_grid, scaled_pdf)\n",
    "plt.colorbar(c2, ax=ax2)\n",
    "png_path = f'../../papers/vifa/plots/logistic_regression_synthetic_vifa_posterior.png'\n",
    "plt.savefig(png_path, format='png')\n",
    "plt.show()"
   ]
  },
  {
   "cell_type": "code",
   "execution_count": null,
   "id": "045a6ec3",
   "metadata": {},
   "outputs": [],
   "source": []
  }
 ],
 "metadata": {
  "kernelspec": {
   "display_name": "Python 3",
   "language": "python",
   "name": "python3"
  },
  "language_info": {
   "codemirror_mode": {
    "name": "ipython",
    "version": 3
   },
   "file_extension": ".py",
   "mimetype": "text/x-python",
   "name": "python",
   "nbconvert_exporter": "python",
   "pygments_lexer": "ipython3",
   "version": "3.8.10"
  }
 },
 "nbformat": 4,
 "nbformat_minor": 5
}
