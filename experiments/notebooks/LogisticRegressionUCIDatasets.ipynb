{
 "cells": [
  {
   "cell_type": "code",
   "execution_count": 1,
   "id": "de6465de",
   "metadata": {},
   "outputs": [],
   "source": [
    "import matplotlib.pyplot as plt\n",
    "import matplotlib.ticker as tk\n",
    "import numpy as np\n",
    "import pandas as pd\n",
    "from pytorch_lightning import Trainer\n",
    "from sklearn.preprocessing import StandardScaler\n",
    "import torch\n",
    "import torch.nn as nn\n",
    "from torch.optim import SGD, Adam\n",
    "from torch.utils.data import TensorDataset, DataLoader\n",
    "\n",
    "from swafa.models import FeedForwardNet \n",
    "from swafa.callbacks import FactorAnalysisVariationalInferenceCallback"
   ]
  },
  {
   "cell_type": "markdown",
   "id": "89378453",
   "metadata": {},
   "source": [
    "# Australian Credit Approval"
   ]
  },
  {
   "cell_type": "markdown",
   "id": "11cc4968",
   "metadata": {},
   "source": [
    "### Load dataset"
   ]
  },
  {
   "cell_type": "code",
   "execution_count": 51,
   "id": "c8c4a46b",
   "metadata": {},
   "outputs": [
    {
     "name": "stdout",
     "output_type": "stream",
     "text": [
      "torch.Size([341, 10])\n",
      "torch.Size([341])\n"
     ]
    }
   ],
   "source": [
    "# directory = '../data/slang_datasets/australian_presplit'\n",
    "# x_path = f'{directory}/australian_scale_X_tr.csv'\n",
    "# y_path = f'{directory}/australian_scale_y_tr.csv'\n",
    "\n",
    "directory = '../data/slang_datasets/breast_cancer_scale_presplit'\n",
    "x_path = f'{directory}/breast_cancer_scale_X_tr.csv'\n",
    "y_path = f'{directory}/breast_cancer_scale_y_tr.csv'\n",
    "\n",
    "X = torch.from_numpy(np.loadtxt(x_path)).float()\n",
    "y = torch.from_numpy(np.loadtxt(y_path)).float()\n",
    "\n",
    "print(X.shape)\n",
    "print(y.shape)"
   ]
  },
  {
   "cell_type": "markdown",
   "id": "14e094d5",
   "metadata": {},
   "source": [
    "### Approximate the true posterior using VIFA"
   ]
  },
  {
   "cell_type": "code",
   "execution_count": 52,
   "id": "995c888b",
   "metadata": {},
   "outputs": [
    {
     "name": "stderr",
     "output_type": "stream",
     "text": [
      "GPU available: False, used: False\n",
      "TPU available: False, using: 0 TPU cores\n",
      "/Users/scott/opt/miniconda3/envs/thesis/lib/python3.8/site-packages/pytorch_lightning/trainer/configuration_validator.py:101: UserWarning: you defined a validation_step but have no val_dataloader. Skipping val loop\n",
      "  rank_zero_warn(f'you defined a {step_name} but have no {loader_name}. Skipping {stage} loop')\n",
      "\n",
      "  | Name          | Type              | Params\n",
      "----------------------------------------------------\n",
      "0 | loss_fn       | BCEWithLogitsLoss | 0     \n",
      "1 | hidden_layers | ModuleList        | 0     \n",
      "2 | output_layer  | Linear            | 10    \n",
      "----------------------------------------------------\n",
      "10        Trainable params\n",
      "0         Non-trainable params\n",
      "10        Total params\n",
      "0.000     Total estimated model params size (MB)\n",
      "/Users/scott/opt/miniconda3/envs/thesis/lib/python3.8/site-packages/pytorch_lightning/trainer/data_loading.py:102: UserWarning: The dataloader, train dataloader, does not have many workers which may be a bottleneck. Consider increasing the value of the `num_workers` argument` (try 8 which is the number of cpus on this machine) in the `DataLoader` init to improve performance.\n",
      "  rank_zero_warn(\n"
     ]
    }
   ],
   "source": [
    "random_seed = 1\n",
    "\n",
    "weight_prior_precision = 1.0\n",
    "\n",
    "latent_dim = 5\n",
    "n_gradients_per_update = 12\n",
    "\n",
    "optimiser_class = SGD\n",
    "bias_optimiser_kwargs = dict(lr=1e-2)\n",
    "factors_optimiser_kwargs = dict(lr=1e-2)\n",
    "noise_optimiser_kwargs = dict(lr=1e-2)\n",
    "\n",
    "batch_size = 32\n",
    "n_epochs = 10000\n",
    "max_grad_norm = 10\n",
    "\n",
    "n_samples, n_features = X.shape\n",
    "\n",
    "model = FeedForwardNet(\n",
    "    input_dim=n_features,\n",
    "    output_activation_fn=torch.sigmoid,\n",
    "    bias=False,\n",
    "    optimiser_class=optimiser_class,\n",
    "    optimiser_kwargs=bias_optimiser_kwargs,\n",
    "    loss_fn=nn.BCEWithLogitsLoss(reduction='mean'),\n",
    "    loss_multiplier=n_samples,\n",
    "    random_seed=random_seed,\n",
    ")\n",
    "\n",
    "callback = FactorAnalysisVariationalInferenceCallback(\n",
    "    latent_dim, \n",
    "    precision=weight_prior_precision, \n",
    "    n_gradients_per_update=n_gradients_per_update, \n",
    "    optimiser_class=optimiser_class, \n",
    "    bias_optimiser_kwargs=bias_optimiser_kwargs,\n",
    "    factors_optimiser_kwargs=factors_optimiser_kwargs,\n",
    "    noise_optimiser_kwargs=noise_optimiser_kwargs,\n",
    "    max_grad_norm=max_grad_norm,\n",
    "    random_seed=random_seed,\n",
    ")\n",
    "\n",
    "dataset = TensorDataset(X, y)\n",
    "dataloader = DataLoader(dataset, batch_size=batch_size, drop_last=False, shuffle=True)\n",
    "\n",
    "trainer = Trainer(max_epochs=n_epochs, callbacks=callback, progress_bar_refresh_rate=0)\n",
    "trainer.fit(model, train_dataloader=dataloader)"
   ]
  },
  {
   "cell_type": "code",
   "execution_count": 53,
   "id": "dfa96c60",
   "metadata": {},
   "outputs": [],
   "source": [
    "variational_mean = callback.get_variational_mean().numpy()\n",
    "variational_covar = callback.get_variational_covariance().numpy()"
   ]
  },
  {
   "cell_type": "markdown",
   "id": "bbdcdbc0",
   "metadata": {},
   "source": [
    "### Plot the VIFA posterior"
   ]
  },
  {
   "cell_type": "code",
   "execution_count": 54,
   "id": "b324cfe5",
   "metadata": {},
   "outputs": [],
   "source": [
    "def plot_covar(covar: np.ndarray):\n",
    "    covar_ = np.copy(covar)\n",
    "    np.fill_diagonal(covar_, 0)\n",
    "\n",
    "    fig, ax = plt.subplots(nrows=1, ncols=1, figsize=(8, 8))\n",
    "\n",
    "    cmap = plt.cm.seismic\n",
    "    img = ax.imshow(covar_, cmap=cmap)\n",
    "\n",
    "    low, hig = centerColorMap([ax], cmap)\n",
    "    remove([ax], [\"xlabel\", \"xticks\", \"yticks\"])\n",
    "    magnitude = int(np.log10(max(abs(low), abs(hig))))\n",
    "\n",
    "    fig.subplots_adjust(right=0.8)\n",
    "    cbar_ax = fig.add_axes([0.85, 0.15, 0.05, 0.7])\n",
    "    formatter = tk.FuncFormatter(lambda x, pos: \"%1.1f\" % (x / 10 ** magnitude))\n",
    "    fig.colorbar(variational_img, cax=cbar_ax, format=formatter)"
   ]
  },
  {
   "cell_type": "code",
   "execution_count": 55,
   "id": "148c8e0e",
   "metadata": {},
   "outputs": [
    {
     "data": {
      "image/png": "[encoded data removed]",
      "text/plain": [
       "<Figure size 576x576 with 2 Axes>"
      ]
     },
     "metadata": {
      "needs_background": "light"
     },
     "output_type": "display_data"
    },
    {
     "data": {
      "image/png": "[encoded data removed]",
      "text/plain": [
       "<Figure size 432x288 with 1 Axes>"
      ]
     },
     "metadata": {
      "needs_background": "light"
     },
     "output_type": "display_data"
    },
    {
     "data": {
      "image/png": "[encoded data removed]",
      "text/plain": [
       "<Figure size 432x288 with 1 Axes>"
      ]
     },
     "metadata": {
      "needs_background": "light"
     },
     "output_type": "display_data"
    }
   ],
   "source": [
    "# 10k epochs\n",
    "plot_covar(variational_covar)\n",
    "plt.show()\n",
    "\n",
    "sorted_idx_mean = np.flip(np.argsort(variational_mean))\n",
    "plt.plot(variational_mean[sorted_idx_mean])\n",
    "plt.show()\n",
    "\n",
    "sorted_idx_var = np.flip(np.argsort(np.diag(variational_covar)))\n",
    "plt.plot(np.diag(variational_covar)[sorted_idx_var])\n",
    "plt.gca().set_yscale(\"log\")\n",
    "plt.show()"
   ]
  },
  {
   "cell_type": "code",
   "execution_count": null,
   "id": "6797edee",
   "metadata": {},
   "outputs": [],
   "source": []
  },
  {
   "cell_type": "code",
   "execution_count": null,
   "id": "42d34b1c",
   "metadata": {},
   "outputs": [],
   "source": []
  },
  {
   "cell_type": "code",
   "execution_count": null,
   "id": "883e5a09",
   "metadata": {},
   "outputs": [],
   "source": []
  },
  {
   "cell_type": "code",
   "execution_count": null,
   "id": "a5dc980b",
   "metadata": {},
   "outputs": [],
   "source": []
  },
  {
   "cell_type": "markdown",
   "id": "6082060b",
   "metadata": {},
   "source": [
    "### SLANG plotting utils\n",
    "\n",
    "Copied from https://github.com/aaronpmishkin/SLANG/blob/2563276dedf4d18c77f3195e8645d3133be8d14c/code/python/libs/vi_lib/lib/utilities/plotting.py"
   ]
  },
  {
   "cell_type": "code",
   "execution_count": 10,
   "id": "59039922",
   "metadata": {},
   "outputs": [
    {
     "name": "stderr",
     "output_type": "stream",
     "text": [
      "<>:30: SyntaxWarning: \"is\" with a literal. Did you mean \"==\"?\n",
      "<>:32: SyntaxWarning: \"is\" with a literal. Did you mean \"==\"?\n",
      "<>:34: SyntaxWarning: \"is\" with a literal. Did you mean \"==\"?\n",
      "<>:36: SyntaxWarning: \"is\" with a literal. Did you mean \"==\"?\n",
      "<>:47: SyntaxWarning: \"is\" with a literal. Did you mean \"==\"?\n",
      "<>:49: SyntaxWarning: \"is\" with a literal. Did you mean \"==\"?\n",
      "<>:51: SyntaxWarning: \"is\" with a literal. Did you mean \"==\"?\n",
      "<>:55: SyntaxWarning: \"is\" with a literal. Did you mean \"==\"?\n",
      "<>:57: SyntaxWarning: \"is\" with a literal. Did you mean \"==\"?\n",
      "<>:59: SyntaxWarning: \"is\" with a literal. Did you mean \"==\"?\n",
      "<>:30: SyntaxWarning: \"is\" with a literal. Did you mean \"==\"?\n",
      "<>:32: SyntaxWarning: \"is\" with a literal. Did you mean \"==\"?\n",
      "<>:34: SyntaxWarning: \"is\" with a literal. Did you mean \"==\"?\n",
      "<>:36: SyntaxWarning: \"is\" with a literal. Did you mean \"==\"?\n",
      "<>:47: SyntaxWarning: \"is\" with a literal. Did you mean \"==\"?\n",
      "<>:49: SyntaxWarning: \"is\" with a literal. Did you mean \"==\"?\n",
      "<>:51: SyntaxWarning: \"is\" with a literal. Did you mean \"==\"?\n",
      "<>:55: SyntaxWarning: \"is\" with a literal. Did you mean \"==\"?\n",
      "<>:57: SyntaxWarning: \"is\" with a literal. Did you mean \"==\"?\n",
      "<>:59: SyntaxWarning: \"is\" with a literal. Did you mean \"==\"?\n",
      "<ipython-input-10-c6a65c6e1ded>:30: SyntaxWarning: \"is\" with a literal. Did you mean \"==\"?\n",
      "  if elem is \"xlabel\":\n",
      "<ipython-input-10-c6a65c6e1ded>:32: SyntaxWarning: \"is\" with a literal. Did you mean \"==\"?\n",
      "  if elem is \"ylabel\":\n",
      "<ipython-input-10-c6a65c6e1ded>:34: SyntaxWarning: \"is\" with a literal. Did you mean \"==\"?\n",
      "  if elem is \"xticks\":\n",
      "<ipython-input-10-c6a65c6e1ded>:36: SyntaxWarning: \"is\" with a literal. Did you mean \"==\"?\n",
      "  if elem is \"yticks\":\n",
      "<ipython-input-10-c6a65c6e1ded>:47: SyntaxWarning: \"is\" with a literal. Did you mean \"==\"?\n",
      "  if lim_name is 'x':\n",
      "<ipython-input-10-c6a65c6e1ded>:49: SyntaxWarning: \"is\" with a literal. Did you mean \"==\"?\n",
      "  if lim_name is 'y':\n",
      "<ipython-input-10-c6a65c6e1ded>:51: SyntaxWarning: \"is\" with a literal. Did you mean \"==\"?\n",
      "  if lim_name is 'c':\n",
      "<ipython-input-10-c6a65c6e1ded>:55: SyntaxWarning: \"is\" with a literal. Did you mean \"==\"?\n",
      "  if lim_name is 'x':\n",
      "<ipython-input-10-c6a65c6e1ded>:57: SyntaxWarning: \"is\" with a literal. Did you mean \"==\"?\n",
      "  if lim_name is 'y':\n",
      "<ipython-input-10-c6a65c6e1ded>:59: SyntaxWarning: \"is\" with a literal. Did you mean \"==\"?\n",
      "  if lim_name is 'c':\n"
     ]
    }
   ],
   "source": [
    "import numpy as np\n",
    "import matplotlib\n",
    "import matplotlib.pyplot as plt\n",
    "import matplotlib.colors as colors\n",
    "\n",
    "'''\n",
    "Assorted helper functions for nice plotting\n",
    "'''\n",
    "\n",
    "def forceAspect(ax, aspect=1):\n",
    "    r\"\"\"Forces an axis to an aspect ratio (width/height).\"\"\"\n",
    "    scale_str = ax.get_yaxis().get_scale()\n",
    "    \n",
    "    xmin,xmax = ax.get_xlim()\n",
    "    ymin,ymax = ax.get_ylim()\n",
    "\n",
    "    if scale_str=='linear':\n",
    "        asp = abs((xmax-xmin)/(ymax-ymin))/aspect\n",
    "    elif scale_str=='log':\n",
    "        asp = abs((np.log(xmax)-np.log(xmin))/(np.log(ymax)-np.log(ymin)))/aspect\n",
    "\n",
    "    ax.set_aspect(asp)\n",
    "\n",
    "def remove(axes, elements):\n",
    "    for elem in elements:\n",
    "        assert elem in [\"xlabel\", \"ylabel\", \"xticks\", \"yticks\"]\n",
    "        \n",
    "    for elem in elements:\n",
    "        for ax in axes:\n",
    "            if elem is \"xlabel\":\n",
    "                ax.set_xlabel(\"\")\n",
    "            if elem is \"ylabel\":\n",
    "                ax.set_ylabel(\"\")\n",
    "            if elem is \"xticks\":\n",
    "                ax.set_xticks([])\n",
    "            if elem is \"yticks\":\n",
    "                ax.set_yticks([])\n",
    "    \n",
    "def sync_lims(axes, lim_name):\n",
    "    r\"\"\"\n",
    "    Make all axes have the same min/max in the desired limits.\n",
    "    :code:`lim_name` can be `xlims`, `ylims`, `clims`.\n",
    "    \"\"\"\n",
    "    assert lim_name in ['x', 'y', 'c']\n",
    "    \n",
    "    def get_lims(ax):\n",
    "        if lim_name is 'x':\n",
    "            return ax.get_xlim()\n",
    "        if lim_name is 'y':\n",
    "            return ax.get_ylim()\n",
    "        if lim_name is 'c':\n",
    "            return ax.images[0].get_clim()\n",
    "\n",
    "    def set_lim(ax, low, hig):\n",
    "        if lim_name is 'x':\n",
    "            return ax.set_xlim(low, hig)\n",
    "        if lim_name is 'y':\n",
    "            return ax.set_ylim(low, hig)\n",
    "        if lim_name is 'c':\n",
    "            return ax.images[0].set_clim(low, hig)\n",
    "\n",
    "    lims = np.zeros((len(axes), 2))\n",
    "    for i in range(len(axes)):\n",
    "        current_lims = np.array(get_lims(axes[i]))\n",
    "        lims[i, :] = current_lims\n",
    "    low, hig = np.min(lims), np.max(lims)\n",
    "    for ax in axes:\n",
    "        set_lim(ax, low, hig)\n",
    "\n",
    "    return low, hig\n",
    "\n",
    "def shiftedColorMap(cmap, start=0, midpoint=0.5, stop=1.0, name='shiftedcmap'):\n",
    "    '''\n",
    "    Function to offset the \"center\" of a colormap. Useful for\n",
    "    data with a negative min and positive max and you want the\n",
    "    middle of the colormap's dynamic range to be at zero.\n",
    "    Source: https://stackoverflow.com/a/20528097/1983613\n",
    "    \n",
    "    Input\n",
    "    -----\n",
    "      cmap : The matplotlib colormap to be altered\n",
    "      start : Offset from lowest point in the colormap's range.\n",
    "          Defaults to 0.0 (no lower offset). Should be between\n",
    "          0.0 and `midpoint`.\n",
    "      midpoint : The new center of the colormap. Defaults to \n",
    "          0.5 (no shift). Should be between 0.0 and 1.0. In\n",
    "          general, this should be  1 - vmax / (vmax + abs(vmin))\n",
    "          For example if your data range from -15.0 to +5.0 and\n",
    "          you want the center of the colormap at 0.0, `midpoint`\n",
    "          should be set to  1 - 5/(5 + 15)) or 0.75\n",
    "      stop : Offset from highest point in the colormap's range.\n",
    "          Defaults to 1.0 (no upper offset). Should be between\n",
    "          `midpoint` and 1.0.\n",
    "    '''\n",
    "    cdict = {\n",
    "        'red': [],\n",
    "        'green': [],\n",
    "        'blue': [],\n",
    "        'alpha': []\n",
    "    }\n",
    "\n",
    "    # regular index to compute the colors\n",
    "    reg_index = np.linspace(start, stop, 257)\n",
    "\n",
    "    # shifted index to match the data\n",
    "    shift_index = np.hstack([\n",
    "        np.linspace(0.0, midpoint, 128, endpoint=False), \n",
    "        np.linspace(midpoint, 1.0, 129, endpoint=True)\n",
    "    ])\n",
    "\n",
    "    for ri, si in zip(reg_index, shift_index):\n",
    "        r, g, b, a = cmap(ri)\n",
    "\n",
    "        cdict['red'].append((si, r, r))\n",
    "        cdict['green'].append((si, g, g))\n",
    "        cdict['blue'].append((si, b, b))\n",
    "        cdict['alpha'].append((si, a, a))\n",
    "\n",
    "    newcmap = matplotlib.colors.LinearSegmentedColormap(name, cdict)\n",
    "\n",
    "    return newcmap\n",
    "\n",
    "def centeredSymmetricColorMap(cmap, low, high, name=\"centeredsymmetricsmap2\"):\n",
    "    cdict = {\n",
    "        'red': [],\n",
    "        'green': [],\n",
    "        'blue': [],\n",
    "        'alpha': []\n",
    "    }\n",
    "    \n",
    "    assert(high > 0)\n",
    "    assert(low < 0)\n",
    "\n",
    "    if abs(low) > high:\n",
    "        start=0\n",
    "        stop=0.5 + high/(2*abs(low))\n",
    "    else:\n",
    "        start=0.5 + low/(2*abs(high))\n",
    "        stop=1\n",
    "\n",
    "    reg_index = np.linspace(start, stop, 257)\n",
    "    shift_index = np.linspace(0.0, 1.0, 129+128, endpoint=True)\n",
    "    for ri, si in zip(reg_index, shift_index):\n",
    "        r, g, b, a = cmap(ri)\n",
    "\n",
    "        cdict['red'].append((si, r, r))\n",
    "        cdict['green'].append((si, g, g))\n",
    "        cdict['blue'].append((si, b, b))\n",
    "        cdict['alpha'].append((si, a, a))\n",
    "\n",
    "    newcmap = matplotlib.colors.LinearSegmentedColormap(name, cdict)\n",
    "\n",
    "    return newcmap\n",
    "\n",
    "    \n",
    "def centerColorMap(axes, cmap):\n",
    "    low, hig = sync_lims(axes, 'c')\n",
    "    shrunk_cmap = centeredSymmetricColorMap(cmap, low, hig, name='shrunk')\n",
    "    for ax in axes:\n",
    "        ax.get_images()[0].set_cmap(shrunk_cmap)\n",
    "    return low, hig\n",
    "\n",
    "def plotPerfectCorrelation(ax, linespec='k--'):\n",
    "    xlims = ax.get_xlim()\n",
    "    ylims = ax.get_ylim()\n",
    "    newlims = [min(min(xlims), min(ylims)), max(max(xlims), max(ylims))]\n",
    "    ax.plot(newlims, newlims, linespec)\n",
    "    ax.set_xlim(newlims)\n",
    "    ax.set_ylim(newlims)\n",
    "\n",
    "def hide_label_and_tickmark(axis):\n",
    "    axis.set_ticklabels([])\n",
    "    axis.set_tick_params(length=0)\n",
    "\n",
    "def shaded_cov(ax, x, mean, std, **kwargs):\n",
    "    low = mean - std/np.sqrt(10)\n",
    "    high = mean + std/np.sqrt(10)\n",
    "    ax.fill_between(x, low, high, **kwargs)"
   ]
  },
  {
   "cell_type": "code",
   "execution_count": null,
   "id": "1fe29f02",
   "metadata": {},
   "outputs": [],
   "source": []
  }
 ],
 "metadata": {
  "kernelspec": {
   "display_name": "Python 3",
   "language": "python",
   "name": "python3"
  },
  "language_info": {
   "codemirror_mode": {
    "name": "ipython",
    "version": 3
   },
   "file_extension": ".py",
   "mimetype": "text/x-python",
   "name": "python",
   "nbconvert_exporter": "python",
   "pygments_lexer": "ipython3",
   "version": "3.8.10"
  }
 },
 "nbformat": 4,
 "nbformat_minor": 5
}
